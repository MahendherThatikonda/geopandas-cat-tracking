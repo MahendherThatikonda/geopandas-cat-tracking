{
 "cells": [
  {
   "cell_type": "markdown",
   "id": "3bd80c83",
   "metadata": {},
   "source": [
    "# Lab 3 — DEM Mosaic (Python, rioxarray)\n",
    "\n",
    "This notebook demonstrates how to merge multiple DEM raster tiles into a single **mosaic raster** using `rioxarray` (`merge_arrays`) and related geospatial tools.  \n",
    "It also shows how to reproject, visualize, and export the mosaic as a GeoTIFF.\n",
    "\n",
    "## Requirements\n",
    "- Python 3.9+\n",
    "- `rioxarray`\n",
    "- `rasterio`\n",
    "- `xarray`\n",
    "- `numpy`\n",
    "- `matplotlib`\n",
    "- `earthpy` (for optional bytescaling)\n",
    "- `geopandas` (optional for vector ops)\n",
    "\n",
    "\n",
    "└─ README.md\n",
    "```\n",
    "\n",
    "## Usage\n",
    "1. Place your DEM `.tif` files in `Lab3_data/` (or a subfolder you reference).\n",
    "2. Open and run `Lab3_github.ipynb` from the `Lab3/` directory.\n",
    "3. The merged raster will be saved to `Lab3_data/Data_Export/merged_dem.tif`.\n"
   ]
  },
  {
   "cell_type": "code",
   "execution_count": null,
   "id": "f3e9eb47-992e-4eb3-a68e-8466813ce5c6",
   "metadata": {},
   "outputs": [],
   "source": [
    "import os\n",
    "\n",
    "os.getcwd() #checks the current working directory"
   ]
  },
  {
   "cell_type": "code",
   "execution_count": null,
   "id": "83de1faa-240e-4d69-a234-0a4deb44b4b7",
   "metadata": {},
   "outputs": [],
   "source": [
    "# List of 18 random integer numbers between 1 and 100\n",
    "random_values = [3, 4, 12,38,8,22,54,18,72,70,29,66,3,85,62,17,100,97,50,8,7,12,13,99]\n",
    "print(type(random_values)) #check the 'type' of random_values"
   ]
  },
  {
   "cell_type": "code",
   "execution_count": null,
   "id": "71990b22-3920-40da-97cc-f5316bad1a97",
   "metadata": {},
   "outputs": [],
   "source": [
    "# Imports numpy and defines a 'nickname' for it\n",
    "import numpy as np"
   ]
  },
  {
   "cell_type": "code",
   "execution_count": null,
   "id": "b26b5153-f744-4387-9883-45d309e2dfc7",
   "metadata": {},
   "outputs": [],
   "source": [
    "# Creates a single-dimensional(x) numpy array\n",
    "single_d= np.array(random_values)\n",
    "\n",
    "# Inspect the result\n",
    "single_d"
   ]
  },
  {
   "cell_type": "code",
   "execution_count": null,
   "id": "8b25fe63-6af7-4ce1-ba58-ab364da9e1f6",
   "metadata": {},
   "outputs": [],
   "source": [
    "print(type(single_d))"
   ]
  },
  {
   "cell_type": "code",
   "execution_count": null,
   "id": "6d346d24-f5f5-4985-b4c3-b5900028476f",
   "metadata": {},
   "outputs": [],
   "source": [
    "single_d[1] #check the value at index 1"
   ]
  },
  {
   "cell_type": "code",
   "execution_count": null,
   "id": "644dd510-799b-475b-8b80-82ae97fd9ac9",
   "metadata": {},
   "outputs": [],
   "source": [
    "lis=[1,2,5,4,7,4]\n",
    "print(type(lis)) #prints the 'type'"
   ]
  },
  {
   "cell_type": "code",
   "execution_count": null,
   "id": "484ec1cb-47e7-42db-855e-842bbeede1b2",
   "metadata": {},
   "outputs": [],
   "source": [
    "lisa=np.array(lis) #converts list into numpy array"
   ]
  },
  {
   "cell_type": "code",
   "execution_count": null,
   "id": "48614218-f629-45da-9f6e-5111803e938f",
   "metadata": {},
   "outputs": [],
   "source": [
    "lisa #elements in 'lisa'"
   ]
  },
  {
   "cell_type": "code",
   "execution_count": null,
   "id": "4fc77826-936e-4903-a9e8-dbd4f177d212",
   "metadata": {},
   "outputs": [],
   "source": [
    "print(type(lisa))  #prints the lisa'type'"
   ]
  },
  {
   "cell_type": "code",
   "execution_count": null,
   "id": "071f5c70-2387-4c2d-b418-95f3d876f57c",
   "metadata": {},
   "outputs": [],
   "source": [
    "# Number of rows(x) and columns(y) for the 2D array\n",
    "num_rows = 3\n",
    "num_columns = 8\n",
    "\n",
    "two_d= single_d.reshape(num_rows, num_columns) #creats 2D array with defined number of columns and rows\n",
    "# Inspect the result\n",
    "two_d"
   ]
  },
  {
   "cell_type": "code",
   "execution_count": null,
   "id": "de7649cf-ba97-4d3c-a212-58461b09c308",
   "metadata": {},
   "outputs": [],
   "source": [
    "two_d[0] #prints first row"
   ]
  },
  {
   "cell_type": "code",
   "execution_count": null,
   "id": "74aed39e-4460-445f-88ef-58adc2bd1e7a",
   "metadata": {},
   "outputs": [],
   "source": [
    "two_d[0,1] #prints row at index 0 and column at index 1"
   ]
  },
  {
   "cell_type": "code",
   "execution_count": null,
   "id": "0f80065c-025e-45f4-b55b-f7a7a61870c3",
   "metadata": {},
   "outputs": [],
   "source": [
    "two_d[:,1] #shows all elements at column index 1"
   ]
  },
  {
   "cell_type": "code",
   "execution_count": null,
   "id": "07b9fee0-f35f-4839-932b-6b5c3a8826a7",
   "metadata": {},
   "outputs": [],
   "source": [
    "two_d[0,1]"
   ]
  },
  {
   "cell_type": "code",
   "execution_count": null,
   "id": "7c64521e-23b2-4a8f-aa6d-e40bce699fd6",
   "metadata": {},
   "outputs": [],
   "source": [
    "print(type(two_d[0:1,1]))"
   ]
  },
  {
   "cell_type": "code",
   "execution_count": null,
   "id": "a674eea1-713d-4a5e-a063-bd324736774b",
   "metadata": {},
   "outputs": [],
   "source": [
    "print(type(two_d[0,1]))"
   ]
  },
  {
   "cell_type": "code",
   "execution_count": null,
   "id": "d629732b-0be4-4184-ac90-16cd57dc4a56",
   "metadata": {},
   "outputs": [],
   "source": [
    "two_d[1:3,0:3]"
   ]
  },
  {
   "cell_type": "code",
   "execution_count": null,
   "id": "a2e5de34-2ed4-4e7b-868f-285df9355ec6",
   "metadata": {},
   "outputs": [],
   "source": [
    "print(two_d.size) #size of the array"
   ]
  },
  {
   "cell_type": "code",
   "execution_count": null,
   "id": "cccf2c60-e145-4667-ab48-15342aad773b",
   "metadata": {},
   "outputs": [],
   "source": [
    "num_rows=3\n",
    "num_cols=4\n",
    "layers=2\n",
    "three_d=single_d.reshape(layers,num_rows,num_cols)\n",
    "three_d"
   ]
  },
  {
   "cell_type": "code",
   "execution_count": null,
   "id": "526e4b54-7ea9-4ff7-bf0d-70f28f7b69f6",
   "metadata": {},
   "outputs": [],
   "source": [
    "print(type(three_d))"
   ]
  },
  {
   "cell_type": "code",
   "execution_count": null,
   "id": "0cf476bf-1a43-4593-8e20-0dc20f68766d",
   "metadata": {},
   "outputs": [],
   "source": [
    "three_d[1,1]"
   ]
  },
  {
   "cell_type": "code",
   "execution_count": null,
   "id": "c0363279-69cd-43a8-a437-edbb66003358",
   "metadata": {},
   "outputs": [],
   "source": [
    "three_d[0:2,1:3,1]"
   ]
  },
  {
   "cell_type": "code",
   "execution_count": null,
   "id": "0ec04587-2836-4aa1-a29f-d40e7d7761fd",
   "metadata": {},
   "outputs": [],
   "source": [
    "three_d[1,1:3,1:3]"
   ]
  },
  {
   "cell_type": "code",
   "execution_count": null,
   "id": "6982bdb9-558f-447d-b571-619972a173d5",
   "metadata": {},
   "outputs": [],
   "source": [
    "print(type(three_d))"
   ]
  },
  {
   "cell_type": "code",
   "execution_count": null,
   "id": "afd09507-ac5e-4416-b0ae-e40de752e3b9",
   "metadata": {},
   "outputs": [],
   "source": [
    "three_d.dtype"
   ]
  },
  {
   "cell_type": "code",
   "execution_count": null,
   "id": "5d724692-971a-4b3f-b251-5dd2b08dc138",
   "metadata": {},
   "outputs": [],
   "source": [
    "float_array = np.array(random_values,dtype=np.float32).reshape(2,3,4) #sets the datatype and creates a 2D layer with 3 rows and 4 columns"
   ]
  },
  {
   "cell_type": "code",
   "execution_count": null,
   "id": "e0b1fc92-1b75-4dd7-9e95-c248bd4e1184",
   "metadata": {},
   "outputs": [],
   "source": [
    "float_array.dtype #type of float_array"
   ]
  },
  {
   "cell_type": "code",
   "execution_count": null,
   "id": "9f49b135-eaf7-4b02-aa1b-0049670ce421",
   "metadata": {},
   "outputs": [],
   "source": [
    "float_array"
   ]
  },
  {
   "cell_type": "code",
   "execution_count": null,
   "id": "5d9511ed-7491-4d3f-a46f-ac016236b5d7",
   "metadata": {},
   "outputs": [],
   "source": [
    "three_d"
   ]
  },
  {
   "cell_type": "code",
   "execution_count": null,
   "id": "9fba855c-d44e-4349-8b25-b7b2ca5e62ea",
   "metadata": {},
   "outputs": [],
   "source": [
    "three_d.dtype"
   ]
  },
  {
   "cell_type": "code",
   "execution_count": null,
   "id": "1692fdc3-1756-4b4a-9abe-08e22e8c8012",
   "metadata": {},
   "outputs": [],
   "source": [
    "three_d_float=three_d.astype(np.float32)\n",
    "three_d_float"
   ]
  },
  {
   "cell_type": "code",
   "execution_count": null,
   "id": "d3598d2f-8ce0-4b36-9ab3-48261037ac9a",
   "metadata": {},
   "outputs": [],
   "source": [
    "#element-wise opration\n",
    "three_d_2=three_d+three_d\n",
    "three_d_2"
   ]
  },
  {
   "cell_type": "code",
   "execution_count": null,
   "id": "38a8a616-9863-48bd-91a4-4e4747823f28",
   "metadata": {},
   "outputs": [],
   "source": [
    "sin_threed = np.sin(three_d) #element wise sin function\n",
    "sin_threed"
   ]
  },
  {
   "cell_type": "code",
   "execution_count": null,
   "id": "72dbbfde-dd08-4bfa-a205-c186a0df871b",
   "metadata": {},
   "outputs": [],
   "source": [
    "print(\"Layers mean:\", np.mean(three_d,axis=0)) #mean of three_d across the axis"
   ]
  },
  {
   "cell_type": "code",
   "execution_count": null,
   "id": "911ebb26-7eae-40ec-b165-51b19878868e",
   "metadata": {},
   "outputs": [],
   "source": [
    "three_d"
   ]
  },
  {
   "cell_type": "code",
   "execution_count": null,
   "id": "d8234a1f-bd42-45a5-8d9a-1d1d45d55b21",
   "metadata": {},
   "outputs": [],
   "source": [
    "print(\"Columns mean:\", np.mean(three_d,axis=1))"
   ]
  },
  {
   "cell_type": "code",
   "execution_count": null,
   "id": "0c9721be-ebba-467e-b9f6-927982555246",
   "metadata": {},
   "outputs": [],
   "source": [
    "print(\"Rows mean:\", np.mean(three_d,axis=2))"
   ]
  },
  {
   "cell_type": "code",
   "execution_count": null,
   "id": "1dfdecb6-1b97-4f68-9dd0-92b4ebd8b540",
   "metadata": {},
   "outputs": [],
   "source": [
    "three_d_float[0,1,2]=np.nan\n",
    "three_d_float"
   ]
  },
  {
   "cell_type": "code",
   "execution_count": null,
   "id": "cb4ef54c-bee1-49b6-997f-8ef4a7ccd36f",
   "metadata": {},
   "outputs": [],
   "source": [
    "# Recalcutlating and printing the means\n",
    "print(\"Row means:\\n\" , np.mean(three_d_float, axis = 2))\n",
    "print(\"Column means:\\n\" , np.mean(three_d_float, axis = 1))\n",
    "print(\"Array mean:\\n\" , np.mean(three_d_float))"
   ]
  },
  {
   "cell_type": "code",
   "execution_count": null,
   "id": "10022cdc-e631-4e24-a9e5-8339568ab2e7",
   "metadata": {},
   "outputs": [],
   "source": [
    "three_d[0,1,2]=np.nan"
   ]
  },
  {
   "cell_type": "code",
   "execution_count": null,
   "id": "a4289c94-de36-4650-b213-d3854ea26fec",
   "metadata": {},
   "outputs": [],
   "source": [
    "print(\"Original array:\")\n",
    "print(three_d)\n",
    "# Print the array resulting from a boolean operation\n",
    "print(\"Veryfying what array elements are <5:\")\n",
    "print(three_d<5)"
   ]
  },
  {
   "cell_type": "code",
   "execution_count": null,
   "id": "f8d237a6-b488-4aae-b4ab-6cc304eec00a",
   "metadata": {},
   "outputs": [],
   "source": [
    "# Print the original array for comparison\n",
    "print(\"Original array:\")\n",
    "print(three_d)\n",
    "# Print the output from np.where()\n",
    "print(\"Indices for elements np.where<5 == True:\")\n",
    "np.where(three_d<5)"
   ]
  },
  {
   "cell_type": "code",
   "execution_count": null,
   "id": "22e10646-b673-4074-a063-b8bda4f582dd",
   "metadata": {},
   "outputs": [],
   "source": [
    "# print( array [layer,row,column))\n",
    "print(three_d[0,0,1])\n",
    "print(three_d[0,0,0])\n",
    "print(three_d[0,1,0])"
   ]
  },
  {
   "cell_type": "code",
   "execution_count": null,
   "id": "61385a64-ba61-4a44-8f48-0e6de92baf2e",
   "metadata": {},
   "outputs": [],
   "source": [
    "three_d[np.where(three_d<5)]"
   ]
  },
  {
   "cell_type": "code",
   "execution_count": null,
   "id": "1c297682-d907-4bdd-ba6d-7244a11d053a",
   "metadata": {},
   "outputs": [],
   "source": [
    "new_data= np.where(three_d<5, 21, three_d)\n",
    "print(new_data)"
   ]
  },
  {
   "cell_type": "code",
   "execution_count": null,
   "id": "5d31b3bc-31c0-46c0-b46b-895660887fdc",
   "metadata": {},
   "outputs": [],
   "source": [
    "three_d"
   ]
  },
  {
   "cell_type": "code",
   "execution_count": null,
   "id": "56bf176d-4c70-4465-81c9-ab47ed47bdd6",
   "metadata": {},
   "outputs": [],
   "source": [
    "new_data10=np.where((three_d>10) & (three_d<20),0,three_d)\n",
    "new_data10"
   ]
  },
  {
   "cell_type": "code",
   "execution_count": null,
   "id": "b5a38d13-3cdd-4c72-b42f-0acf9a0fad89",
   "metadata": {},
   "outputs": [],
   "source": [
    "arrt=[1,2,1,3,4]\n",
    "arrt=np.array(arrt)\n",
    "sddd=[2,5,4,7,1]\n",
    "sddd=np.array(sddd)\n",
    "np.stack((arrt,sddd))"
   ]
  },
  {
   "cell_type": "code",
   "execution_count": null,
   "id": "c5a70390-5ef6-44fb-860c-20e82c1341f0",
   "metadata": {},
   "outputs": [],
   "source": [
    "np.vstack((arrt,sddd))"
   ]
  },
  {
   "cell_type": "code",
   "execution_count": null,
   "id": "9c21932c-84dd-4967-8d2c-085b9d2a9119",
   "metadata": {},
   "outputs": [],
   "source": [
    "np.hstack((arrt,sddd))"
   ]
  },
  {
   "cell_type": "code",
   "execution_count": null,
   "id": "040b0a15-b01d-4808-b426-8b3e0e80609c",
   "metadata": {},
   "outputs": [],
   "source": [
    "np.dstack((arrt,sddd))"
   ]
  },
  {
   "cell_type": "code",
   "execution_count": null,
   "id": "77fcf23c-eb8a-4e0c-bed9-9812aa7fcf54",
   "metadata": {},
   "outputs": [],
   "source": [
    "np.column_stack((arrt,sddd))"
   ]
  },
  {
   "cell_type": "code",
   "execution_count": null,
   "id": "76f60485-e659-4aba-bd8e-a5872f312381",
   "metadata": {},
   "outputs": [],
   "source": [
    "# Print the original array for comparison\n",
    "print(\"Original array:\")\n",
    "print(two_d)\n",
    "# Print the stacked array\n",
    "print(\"stacked array:\")\n",
    "\n",
    "# Note that np.stack receives the arrays between () as argument\n",
    "print(np.stack((two_d, two_d)))"
   ]
  },
  {
   "cell_type": "code",
   "execution_count": null,
   "id": "735b63b3-e4f5-45de-95ff-ae29ba45240f",
   "metadata": {},
   "outputs": [],
   "source": [
    "%who"
   ]
  },
  {
   "cell_type": "code",
   "execution_count": null,
   "id": "e127f383-7610-477a-ba73-ec5831238691",
   "metadata": {},
   "outputs": [],
   "source": [
    "temp=[1,2,3,4,5,6]\n",
    "temp1=np.array(temp)\n",
    "temp1\n",
    "tempst = np.stack((temp1,temp1))\n",
    "tempst"
   ]
  },
  {
   "cell_type": "code",
   "execution_count": null,
   "id": "709f7333-3705-4a6f-995a-bedc6f3e1c62",
   "metadata": {},
   "outputs": [],
   "source": [
    "tempv=np.vstack((temp1,temp1))\n",
    "tempv"
   ]
  },
  {
   "cell_type": "code",
   "execution_count": null,
   "id": "bd7f4eb8-1de7-4f52-889a-1df14800a9cf",
   "metadata": {},
   "outputs": [],
   "source": [
    "temph=np.hstack((temp1,temp1))\n",
    "temph"
   ]
  },
  {
   "cell_type": "code",
   "execution_count": null,
   "id": "43fe6022-46bb-473f-8888-a7d44feb679c",
   "metadata": {},
   "outputs": [],
   "source": [
    "tempd=np.dstack((temp1,temp1))\n",
    "tempd"
   ]
  },
  {
   "cell_type": "code",
   "execution_count": null,
   "id": "b935c733-42d2-4c4d-8441-b380b179415d",
   "metadata": {},
   "outputs": [],
   "source": [
    "tempcol=np.column_stack((temp1,temp1))\n",
    "tempcol"
   ]
  },
  {
   "cell_type": "code",
   "execution_count": null,
   "id": "9a08cbba-a7fb-4337-9fcc-766ae0afa592",
   "metadata": {},
   "outputs": [],
   "source": [
    "del( layers, num_rows, random_values, single_d, three_d, three_d_float,two_d)"
   ]
  },
  {
   "cell_type": "code",
   "execution_count": null,
   "id": "7dbd60ff-4aed-4aff-be7c-b053417ac3ed",
   "metadata": {},
   "outputs": [],
   "source": [
    "%who"
   ]
  },
  {
   "cell_type": "code",
   "execution_count": null,
   "id": "16563189-d433-4cb3-9a01-78c0c73ba7b5",
   "metadata": {},
   "outputs": [],
   "source": [
    "#rasterio, rioarray and gdal are the most popular Python libraries for handling spatial gridded, i.e., rasters\n",
    "!pip install rasterio"
   ]
  },
  {
   "cell_type": "code",
   "execution_count": null,
   "id": "0d3c1d09-181a-4413-961c-499c1a48e1ca",
   "metadata": {},
   "outputs": [],
   "source": [
    "# Import the rasterio using rio as its \"nickname\"\n",
    "import rasterio as rio\n",
    "# Opens the raster dataset and create a rasterio.io.DatasetReader object\n",
    "sentinel = rio.open('Lab3_data/S2_SR_20221015_chch.tif')\n",
    "\n",
    "# Inspecting the result\n",
    "sentinel"
   ]
  },
  {
   "cell_type": "code",
   "execution_count": null,
   "id": "6a07d302-03d1-4a0f-9deb-35d8a4b7376a",
   "metadata": {},
   "outputs": [],
   "source": [
    "type(sentinel)"
   ]
  },
  {
   "cell_type": "code",
   "execution_count": null,
   "id": "11716201-6af5-4585-846f-41216f9f9199",
   "metadata": {},
   "outputs": [],
   "source": [
    "info_meta = sentinel.meta #accessing the metadata of datasetreader object\n",
    "sentinel.meta #metadata of sentinel dataset"
   ]
  },
  {
   "cell_type": "code",
   "execution_count": null,
   "id": "01becbd4-56c8-4073-9df6-caec364cb4d2",
   "metadata": {},
   "outputs": [],
   "source": [
    "sentinel.meta['height']"
   ]
  },
  {
   "cell_type": "code",
   "execution_count": null,
   "id": "453ad31a-d2aa-4365-8e24-d97dc608a8ad",
   "metadata": {},
   "outputs": [],
   "source": [
    "print(sentinel.driver)"
   ]
  },
  {
   "cell_type": "code",
   "execution_count": null,
   "id": "22e24ae3-8a3b-48a8-93c2-d4533293e85d",
   "metadata": {},
   "outputs": [],
   "source": [
    "print(sentinel.crs) #print the coordinate system of raster dataset"
   ]
  },
  {
   "cell_type": "code",
   "execution_count": null,
   "id": "46b1975b-4e4b-4e56-9eb8-19db9ee52969",
   "metadata": {},
   "outputs": [],
   "source": [
    "# import the CRS object from pyproj\n",
    "from pyproj import CRS\n",
    "#  Use the CRS.from_epsg() methods directly from pyproj to obtain details\n",
    "CRS.from_epsg(32759)"
   ]
  },
  {
   "cell_type": "code",
   "execution_count": null,
   "id": "1bc54b8e-5d8b-42d2-b68a-a1fbbd83c7a8",
   "metadata": {},
   "outputs": [],
   "source": [
    "sentinel.bounds #Returns the bounding box (minimum and maximum coordinates) of the raster dataset"
   ]
  },
  {
   "cell_type": "code",
   "execution_count": null,
   "id": "7078ddf7-7e21-46ae-b890-c21f57651bce",
   "metadata": {},
   "outputs": [],
   "source": [
    "sentinel.res #Extract the raster resolution for our data"
   ]
  },
  {
   "cell_type": "code",
   "execution_count": null,
   "id": "615a4b68-ed13-4c39-aa31-09bf578c4488",
   "metadata": {},
   "outputs": [],
   "source": [
    "sentinel.width"
   ]
  },
  {
   "cell_type": "code",
   "execution_count": null,
   "id": "dea218cb-e420-461f-a11d-4da31e811e03",
   "metadata": {},
   "outputs": [],
   "source": [
    "sentinel.height"
   ]
  },
  {
   "cell_type": "code",
   "execution_count": null,
   "id": "433ec240-7b79-4e49-8ca2-d5abb6ac5b28",
   "metadata": {},
   "outputs": [],
   "source": [
    "all_bands = sentinel.read()\n",
    "all_bands"
   ]
  },
  {
   "cell_type": "code",
   "execution_count": null,
   "id": "6b712d87-ffb6-4a40-80c8-77e950d0ca9e",
   "metadata": {},
   "outputs": [],
   "source": [
    "all_bands.shape"
   ]
  },
  {
   "cell_type": "code",
   "execution_count": null,
   "id": "4cb748a4-994e-4244-8296-c8c333e1a891",
   "metadata": {},
   "outputs": [],
   "source": [
    "sentinel.descriptions"
   ]
  },
  {
   "cell_type": "code",
   "execution_count": null,
   "id": "fd81c68f-2f5c-45ef-a911-a010b721ee19",
   "metadata": {},
   "outputs": [],
   "source": [
    "#Even though Python counts from zero, rasterio counts from 1\n",
    "blue= sentinel.read(1) #Blue band is the first band in our raster dataset.\n",
    "blue"
   ]
  },
  {
   "cell_type": "code",
   "execution_count": null,
   "id": "e0bd661a-3be1-42a6-b959-7968cbad2bba",
   "metadata": {},
   "outputs": [],
   "source": [
    "blue.shape"
   ]
  },
  {
   "cell_type": "code",
   "execution_count": null,
   "id": "f524a335-7b84-4db8-a75f-79fe19ee3fd6",
   "metadata": {},
   "outputs": [],
   "source": [
    "red=sentinel.read(3)\n",
    "red"
   ]
  },
  {
   "cell_type": "code",
   "execution_count": null,
   "id": "97eb6bef-12b8-4a9d-a585-1649d84e3d40",
   "metadata": {},
   "outputs": [],
   "source": [
    "red.shape"
   ]
  },
  {
   "cell_type": "code",
   "execution_count": null,
   "id": "330d3ce9-4635-487b-be22-560869dcd2e6",
   "metadata": {},
   "outputs": [],
   "source": [
    "nir=sentinel.read(4)\n",
    "nir"
   ]
  },
  {
   "cell_type": "code",
   "execution_count": null,
   "id": "dca3965f-b85d-4ec5-a68a-d921d1f4d2cf",
   "metadata": {},
   "outputs": [],
   "source": [
    "nir.shape"
   ]
  },
  {
   "cell_type": "code",
   "execution_count": null,
   "id": "9e4a481f-7d99-4dfd-a38d-24b7b4ede876",
   "metadata": {},
   "outputs": [],
   "source": [
    "#close the sentinel files\n",
    "# print the DatasetReader variable for comparison\n",
    "print(sentinel)\n",
    "# close the DatasetReader\n",
    "sentinel.close()\n",
    "# print the DatasetReader variable for comparison\n",
    "print(sentinel)"
   ]
  },
  {
   "cell_type": "code",
   "execution_count": null,
   "id": "bdb8775a-a096-4a3f-bc06-c38ae72ec743",
   "metadata": {},
   "outputs": [],
   "source": [
    "#In order to guarantee, amongst other things, that the dataset is closed and there is no lock, the best way to read data using rasterio is using the withstatement as shown in the code snippet below:\n",
    "# Open the raster dataset using rasterio\n",
    "with rio.open('Lab3_data/S2_SR_20221015_chch.tif') as sentinel:\n",
    "    # Printing to show that the daset is now open\n",
    "    print(\"Start of with block: \",sentinel)\n",
    "\n",
    "    # Read specific bands: NIR, Red, and Blue\n",
    "    nir = sentinel.read(4)  # Reading the Near-Infrared (NIR) band\n",
    "    red = sentinel.read(3)  # Reading the Red band\n",
    "    blue = sentinel.read(1)  # Reading the Blue band\n",
    "    \n",
    "    # You can also read all bands into a single array by not specifying the index\n",
    "    all_bands = sentinel.read()\n",
    "\n",
    "    # Retrieving raster metadata and storing it in the variable info_meta\n",
    "    info_meta = sentinel.meta\n",
    "    \n",
    "    # Printing to show that inside the with block the datset is still open\n",
    "    print(\"End of with but still inside block: \",sentinel)\n",
    "    \n",
    "# Printing to show that the daset is closed once the with block is finalised\n",
    "print(\"End of with and outside after block: \", sentinel)"
   ]
  },
  {
   "cell_type": "code",
   "execution_count": null,
   "id": "1184e9c0-814b-4001-9b2d-19a08c977817",
   "metadata": {},
   "outputs": [],
   "source": [
    "#Visualizing raster data with EarthPy\n",
    "#EarthPy builds upon the functionality developed for raster data (rasterio) and vector data (geopandas) to simplify the code needed.Single band plots are extremely useful for data exploration.\n",
    "#Let’s create a single band plot for the NIR data from Sentinel\n",
    "\n",
    "!pip install earthpy\n"
   ]
  },
  {
   "cell_type": "code",
   "execution_count": null,
   "id": "ea83ee2c-b7cd-4e60-89ac-3c19851f86cd",
   "metadata": {},
   "outputs": [],
   "source": [
    "import earthpy.plot as ep\n",
    "import matplotlib.pyplot as plt\n",
    "\n",
    "# Enable inline plotting in Jupyter Notebook\n",
    "%matplotlib inline\n",
    "\n",
    "# Create a figure and axis with a specific figsize\n",
    "fig, ax = plt.subplots(figsize = (10, 5))\n",
    "# Plot the NIR data using a grayscale colormap (cmap)\n",
    "im_nir = ax.imshow(nir,cmap=\"Greys\")\n",
    "# Add a colorbar to the plot\n",
    "ep.colorbar(im_nir)\n",
    "\n",
    "# Set the title for the plot\n",
    "ax.set(title=\"Banks Peninsula - NIR | SENTINEL 2\")\n",
    "# Turn off the axis display\n",
    "ax.set_axis_off()\n",
    "\n",
    "# Display the plot\n",
    "plt.show()"
   ]
  },
  {
   "cell_type": "code",
   "execution_count": null,
   "id": "4895b03b-1175-459f-a7f6-2544a4c3d77e",
   "metadata": {},
   "outputs": [],
   "source": [
    "# Create a figure and axis with a specific figsize\n",
    "fig, ax = plt.subplots(figsize = (10, 5))\n",
    "\n",
    "# Plot the RED data using a grayscale colormap (cmap)\n",
    "im_red = ax.imshow(red,cmap=\"viridis\")\n",
    "# Add a colorbar to the plot\n",
    "ep.colorbar(im_red)\n",
    "# Set the title for the plot\n",
    "ax.set(title=\"Banks Peninsula - RED | SENTINEL 2\")\n",
    "# Turn off the axis display\n",
    "ax.set_axis_off()\n",
    "\n",
    "# Display the plot\n",
    "plt.show()"
   ]
  },
  {
   "cell_type": "code",
   "execution_count": null,
   "id": "61861af5-a6ac-4636-9667-716a6451f3bc",
   "metadata": {},
   "outputs": [],
   "source": [
    "#Histogram plot using EarthPy:\n",
    "# The 'hist' function will generate a histogram plot with multiple subplots, each showing the distribution of pixel values for a different color band.\n",
    "ep.hist(all_bands,\n",
    "    # 'colors': A list of colors corresponding to each band's histogram plot. 'b' stands for blue, 'g' for green, 'r' for red, and 'black' for NIR.\n",
    "    colors=['b','g','r','black'],\n",
    "    # 'title': A list of titles for each histogram plot, indicating the color channel represented by each band.\n",
    "    title=['Blue', 'Green','Red', 'NIR'],\n",
    "    # 'cols': The number of columns in the layout of the subplots. In this case, 4 columns.\n",
    "    cols=4,\n",
    "    # 'figsize': The size of the overall figure in inches, with width 10 and height 3.\n",
    "    figsize=(10, 3))\n",
    "# Display the entire figure with all subplots and labels\n",
    "plt.show()"
   ]
  },
  {
   "cell_type": "code",
   "execution_count": null,
   "id": "7fc36853-acba-486c-9317-f751c469dbf7",
   "metadata": {},
   "outputs": [],
   "source": [
    "#Histogram plot using matplotlib:\n",
    "# Create a figure with three subplots arranged in one row  (nrows=1) and one column (ncols=3) \n",
    "# The subplots will share the same y-axis (sharey=True) and have a specific figure size of 10x4 inches\n",
    "fig, (ax1, ax2, ax3) = plt.subplots(ncols=3, nrows=1, figsize=(10, 4), sharey=True)"
   ]
  },
  {
   "cell_type": "code",
   "execution_count": null,
   "id": "fec2ca04-022c-44c6-8318-05708e0c004a",
   "metadata": {},
   "outputs": [],
   "source": [
    "# Plot a histogram on the each subplot (ax1,ax2,ax3) using the data (nird,red,blue) flattened into a 1D array\n",
    "# nir.flatten() takes a 2D array (nir,red, blue) and converts it into a 1-dimensional array for histogram plotting\n",
    "# The 'auto' option for bins automatically determines the number of bins to use based on the data\n",
    "ax1.hist(nir.flatten(), bins='auto', color=\"black\")\n",
    "ax2.hist(red.flatten(), bins='auto', color =\"red\")\n",
    "ax3.hist(blue.flatten(), bins='auto', color =\"blue\")\n",
    "# Add a figure title for all subplots\n",
    "fig.suptitle(\"DN distribution\")\n",
    "\n",
    "# Set the x-axis label for the first subplot (ax1) to 'NIR'\n",
    "ax1.set_xlabel('NIR')\n",
    "# Set the x-axis label for the second subplot (ax2) to 'RED'\n",
    "ax2.set_xlabel('RED')\n",
    "# Set the x-axis label for the third subplot (ax3) to 'BLUE'\n",
    "ax3.set_xlabel('BLUE')\n",
    "# Set the y-axis label for the first subplot (ax1) to 'Frequency'\n",
    "ax1.set_ylabel('Frequency')\n",
    "\n",
    "# Display the entire figure with all subplots and labels\n",
    "plt.show()"
   ]
  },
  {
   "cell_type": "code",
   "execution_count": null,
   "id": "c2a29825-53fd-4d22-a4a9-a355a64a1539",
   "metadata": {},
   "outputs": [],
   "source": [
    "# Create a figure and an axis for the plot, specifying the figure size\n",
    "fig, ax = plt.subplots(figsize=(10, 5))\n",
    "\n",
    "# Display the 'red' data as an image on the axis using the 'viridis' colormap\n",
    "# Set the minimum and maximum values for color mapping to enhance contrast\n",
    "im_red = ax.imshow(red, cmap=\"viridis\", vmin=1000, vmax=3000)\n",
    "\n",
    "# Add a colorbar to the plot to show the mapping of values to colors\n",
    "ep.colorbar(im_red)\n",
    "\n",
    "# Set the title of the plot\n",
    "ax.set(title=\"Banks Peninsula - RED | Stretched | SENTINEL 2\")\n",
    "# Turn off the axis to remove axis labels and ticks\n",
    "ax.set_axis_off()\n",
    "\n",
    "# Display the plot\n",
    "plt.show()"
   ]
  },
  {
   "cell_type": "code",
   "execution_count": null,
   "id": "7e0beab7-19d1-475a-9a45-b32e646181e0",
   "metadata": {},
   "outputs": [],
   "source": [
    "# Initialize subplots for all bands\n",
    "fig, (ax1, ax2, ax3) = plt.subplots(ncols=3, nrows=1, figsize=(10, 4), sharey=True)\n",
    "\n",
    "# Plot Near-Infrared (NIR) channel image\n",
    "ax1.imshow(nir, cmap=\"Reds\", vmin=1000, vmax=2000)\n",
    "ax1.set(title=\"NIR\")\n",
    "ax1.set_axis_off()\n",
    "\n",
    "# Plot Red channel image\n",
    "ax2.imshow(red, cmap=\"Greens\", vmin=1000, vmax=3000)\n",
    "ax2.set(title=\"RED\")\n",
    "ax2.set_axis_off()\n",
    "\n",
    "# Plot Blue channel image\n",
    "ax3.imshow(blue, cmap=\"Blues\", vmin=1000, vmax=3000)\n",
    "ax3.set(title=\"BLUE\")\n",
    "ax3.set_axis_off()\n",
    "\n",
    "# Adjust layout to avoid overlapping features\n",
    "plt.tight_layout()\n",
    "# Display the plots\n",
    "plt.show()"
   ]
  },
  {
   "cell_type": "code",
   "execution_count": null,
   "id": "521b77bc-83c6-4a9d-a680-9310b2e45a0c",
   "metadata": {},
   "outputs": [],
   "source": [
    "# Stack the bands to create an RGB composite. The stack should follow the order RGB order, i.e., \n",
    "# to display the nir band in red, the red band in green, and the blue band in blue we need to stack \n",
    "# the bands in the following order (nir, red, blue)\n",
    "nrb_comp = np.stack((nir, red, blue))"
   ]
  },
  {
   "cell_type": "code",
   "execution_count": null,
   "id": "ea030222-75a7-45e2-a00e-eceabe965108",
   "metadata": {},
   "outputs": [],
   "source": [
    "ep.plot_rgb(nrb_comp,str_clip=2, stretch=True) #Use the function plot_rgb from EarthPy to plot three bands in nrb_comp as a composite RGB image.\n",
    "plt.show()"
   ]
  },
  {
   "cell_type": "code",
   "execution_count": null,
   "id": "bc439f7a-54d6-4541-8d40-9992425d5a93",
   "metadata": {},
   "outputs": [],
   "source": [
    "# Stack the bands to create an RGB composite. The stack should follow the order RGB order, i.e., \n",
    "# to display the red band in red, the nir band in green, and the blue band in blue we need to stack \n",
    "# the bands in the following order (nir, red, blue)\n",
    "rng_comp = np.stack((red, nir, blue))\n",
    "ep.plot_rgb(rng_comp,str_clip=2, stretch=True)\n",
    "plt.show()"
   ]
  },
  {
   "cell_type": "code",
   "execution_count": null,
   "id": "a0f4d752-77d7-495c-99e8-deaeb24ad8d2",
   "metadata": {},
   "outputs": [],
   "source": [
    "red"
   ]
  },
  {
   "cell_type": "code",
   "execution_count": null,
   "id": "b7d59e7b-5a9f-4f65-8edc-47ef7ddce372",
   "metadata": {},
   "outputs": [],
   "source": [
    "nir"
   ]
  },
  {
   "cell_type": "code",
   "execution_count": null,
   "id": "76258a34-8dc8-45ad-801a-0ae146f24045",
   "metadata": {},
   "outputs": [],
   "source": [
    "#Raster Arithmetic\n",
    "#Calculate the Normalised Diifference Vegetation Index(NDVI) from our sentinel multispectral remote sensing data\n",
    "ndvi=np.divide((nir-red),(nir+red), where =(nir+red!=0),casting=\"safe\")\n",
    "ndvi"
   ]
  },
  {
   "cell_type": "code",
   "execution_count": null,
   "id": "b0a68fec-60c1-4d82-9ab1-f2a063bbac95",
   "metadata": {},
   "outputs": [],
   "source": [
    "# Inspect the result by checking the minimum  and maximum values\n",
    "print(\"Minimum NDVI value is:\", np.min(ndvi))\n",
    "print(\"Maximum NDVI value is:\", np.max(ndvi))"
   ]
  },
  {
   "cell_type": "code",
   "execution_count": null,
   "id": "6d924b2a-96ed-484e-aebc-08ee6b728468",
   "metadata": {},
   "outputs": [],
   "source": [
    "#check the data types for red and nir arrays\n",
    "print(red.dtype)\n",
    "print(nir.dtype)"
   ]
  },
  {
   "cell_type": "code",
   "execution_count": null,
   "id": "d158e274-d24c-4c46-bd0e-bf9b3b92d35f",
   "metadata": {},
   "outputs": [],
   "source": [
    "#The data type of our array is uint16. All the numbers will be interpreted as integers in the range 0-65535. In this data type, -2 is equal to 65535 - 2, \n",
    "#hence the subtraction results in 65533 which is used to represent -2. Computational talk aside, in order to fix this we need to use .astype() to recast the arrays to a data type that supports negative integers\n",
    "ndvi = np.divide((nir.astype(int)-red.astype(int)),(nir.astype(float)+red.astype(float)),\n",
    "                 where =(nir+red!=0))\n",
    "ndvi"
   ]
  },
  {
   "cell_type": "code",
   "execution_count": null,
   "id": "f85ea32e-ffab-4bc7-b082-baeea2e46124",
   "metadata": {},
   "outputs": [],
   "source": [
    "# Inspect the result by checking the minimum  and maximum values\n",
    "print(\"Minimum NDVI value is:\", np.min(ndvi))\n",
    "print(\"Maximum NDVI value is:\", np.max(ndvi))"
   ]
  },
  {
   "cell_type": "code",
   "execution_count": null,
   "id": "cdd1622d-844a-473b-a2a8-8a0a3d40f32c",
   "metadata": {},
   "outputs": [],
   "source": [
    "#Let’s take a quick look on the histogram before visualizing the resulting ndvi\n",
    "ep.hist(ndvi, title='NDVI', figsize=(4,4))\n",
    "# Show the plot\n",
    "plt.show()"
   ]
  },
  {
   "cell_type": "code",
   "execution_count": null,
   "id": "1d843d4b-0c39-4f05-92d3-81b2ab1e5dae",
   "metadata": {},
   "outputs": [],
   "source": [
    "from matplotlib import colormaps\n",
    "list(colormaps)"
   ]
  },
  {
   "cell_type": "code",
   "execution_count": null,
   "id": "75d69a96-1f33-4197-9e84-883f5bd73557",
   "metadata": {},
   "outputs": [],
   "source": [
    "ep.plot_bands(ndvi,cmap=\"RdYlGn\",figsize=(12,12),cols=3,title=\"NDVI\")"
   ]
  },
  {
   "cell_type": "code",
   "execution_count": null,
   "id": "3ac28a7d-9006-4bc1-9747-e7e6fa66ceab",
   "metadata": {},
   "outputs": [],
   "source": [
    "#Exporting raster data with rasterio\n",
    "import rasterio\n",
    "\n",
    "# Create and open new raster file for writing ( 'w' mode)\n",
    "with rio.open('output_raster.tif', 'w', **info_meta) as dst:\n",
    "    # Write numpy array to the raster file\n",
    "    dst.write(ndvi, 1)"
   ]
  },
  {
   "cell_type": "code",
   "execution_count": null,
   "id": "f6a8867c-4f78-4584-94ed-35460aed7362",
   "metadata": {},
   "outputs": [],
   "source": [
    "# Show metadata\n",
    "#We need to make sure we have the necessary information about the dataset’s metadata before creating the new raster file:\n",
    "info_meta"
   ]
  },
  {
   "cell_type": "code",
   "execution_count": null,
   "id": "feabd4a8-6a05-4c8d-824b-4786b4607588",
   "metadata": {},
   "outputs": [],
   "source": [
    "# Copy the original medata to a new variable\n",
    "out_meta = info_meta\n",
    "\n",
    "# The 'update()' method is used to save a modified version of the 'out_meta' dictionary.\n",
    "# In this case, two key-value pairs are updated:\n",
    "# - \"dtype\": The data type of the output raster is set to the same data type as the 'ndvi' array.\n",
    "# - \"count\": The count of bands in the output raster is set to 1.\n",
    "# - \"nodata\": The nodata value in the output raster is set to -999.\n",
    "out_meta.update({\"dtype\": ndvi.dtype, \"count\":1, 'nodata': -999})\n",
    "\n",
    "# Inspect the result\n",
    "out_meta"
   ]
  },
  {
   "cell_type": "code",
   "execution_count": null,
   "id": "4fcbd64c-d3a6-4a65-90e6-97f2c63215cb",
   "metadata": {},
   "outputs": [],
   "source": [
    "# Specify the output file path for the NDVI raster.\n",
    "# 'out_file' is a string variable that holds the path, file name and extension for the output file where the NDVI raster will be saved.\n",
    "\n",
    "out_file = 'Lab3_data/ndvi_sentinel_banks.tif'\n",
    "\n",
    "# The 'with' statement is used to open the output raster file for writing and make sure it is closed once done.\n",
    "# 'rio.open()' is used to create the new raster file with the specified output file path.\n",
    "\n",
    "# The \"w\" mode indicates that the file is opened for writing.\n",
    "# The '**out_meta' syntax unpacks the contents of the 'out_meta' dictionary as keyword arguments.\n",
    "with rio.open(out_file, \"w\", **out_meta) as dest:\n",
    "    # just checking the type of object \n",
    "    print(dest)\n",
    "    # The 'write()' method of the 'dest' object is used to write the ndvi array data to the raster file.\n",
    "    # 'ndvi' is the data to be written, and '1' specifies the band index of the output raster.\n",
    "    dest.write(ndvi, 1)\n",
    "\n",
    "print(dest)\n",
    "print(\"NDVI raster was saved to \", out_file) "
   ]
  },
  {
   "cell_type": "code",
   "execution_count": null,
   "id": "19cb4772-039b-4eb6-a64d-0edc2da3fc48",
   "metadata": {},
   "outputs": [],
   "source": [
    "#Learning rioxarray\n",
    "#Let’s start by using rioxarrayto read the file ndvi_sentinel_banks.tif that we just created:\n",
    "!pip install rioxarray"
   ]
  },
  {
   "cell_type": "code",
   "execution_count": null,
   "id": "224548a4-726c-4398-8cd0-b90912bef293",
   "metadata": {},
   "outputs": [],
   "source": [
    "import rioxarray as rxr\n",
    "\n",
    "# The 'rxr.open_rasterio()' function is used to open the raster dataset located at 'out_file'.\n",
    "# The 'mask_and_scale=True' argument indicates that the function should apply any masking and scaling present in the dataset.\n",
    "ndvi = rxr.open_rasterio(out_file, mask_and_scale=True)\n",
    "\n",
    "# Masking refers to the process of defining areas in a raster dataset that should be excluded from analysis or visualization based on certain condition\n",
    "# Scaling involves adjusting the range of pixel values in a raster dataset.\n",
    "# Inspecting the result\n",
    "ndvi"
   ]
  },
  {
   "cell_type": "code",
   "execution_count": null,
   "id": "1fbfb1db-052b-43a8-b218-711899f08ed1",
   "metadata": {},
   "outputs": [],
   "source": [
    "#Let’s start by looking at how to get some basic raster information from rioxarray:\n",
    "# dimension (layers, number of rows, columns)\n",
    "print(\"dimension : \",  ndvi.shape)"
   ]
  },
  {
   "cell_type": "code",
   "execution_count": null,
   "id": "14369135-7efe-4d3d-bcae-d0952e657b08",
   "metadata": {},
   "outputs": [],
   "source": [
    "# rows * columns = number of pixels\n",
    "print(\"number of pixels :\",  ndvi.shape[1]* ndvi.shape[2])"
   ]
  },
  {
   "cell_type": "code",
   "execution_count": null,
   "id": "61328de7-bc12-41ab-8a81-0213b1e39293",
   "metadata": {},
   "outputs": [],
   "source": [
    "# Coordinate reference system\n",
    "print(\"The CRS for this data is:\",  ndvi.rio.crs)\n",
    "# Extent of data\n",
    "print(\"The spatial extent is:\",  ndvi.rio.bounds())"
   ]
  },
  {
   "cell_type": "code",
   "execution_count": null,
   "id": "04613228-aa15-4e72-9169-77721e4c26c4",
   "metadata": {},
   "outputs": [],
   "source": [
    "# Get coordinates from the DataArray\n",
    "print(\"lat\",  ndvi.coords[\"y\"].values)\n",
    "print(\"lon\",  ndvi.coords[\"x\"].values)"
   ]
  },
  {
   "cell_type": "code",
   "execution_count": null,
   "id": "0a2aa024-faa9-424a-adcb-5d5e0b4de0a7",
   "metadata": {},
   "outputs": [],
   "source": [
    "# Get pixel size\n",
    "print(\"Resolution: \",  ndvi.rio.resolution())"
   ]
  },
  {
   "cell_type": "code",
   "execution_count": null,
   "id": "01d9d590-cb61-46e4-afc2-dc57e8ee5be5",
   "metadata": {},
   "outputs": [],
   "source": [
    "# print attributes \n",
    "print(ndvi.attrs)"
   ]
  },
  {
   "cell_type": "code",
   "execution_count": null,
   "id": "27278ebb-965a-41ad-9e89-78f493dafa21",
   "metadata": {},
   "outputs": [],
   "source": [
    "# Print numpy array with data\n",
    "print(ndvi.values)"
   ]
  },
  {
   "cell_type": "code",
   "execution_count": null,
   "id": "a287703d-b674-46bd-be0b-3208bc2f8896",
   "metadata": {},
   "outputs": [],
   "source": [
    "#Now, let’s print some summary statistics, while also revisiting some of the Numpy statistics:\n",
    "print(\"The Null data value is:\",  ndvi.rio.nodata)\n",
    "print(\"mean :\", np.mean(ndvi.values))\n",
    "print(\"standard deviation :\", np.std(ndvi.values))\n",
    "print(\"minimum :\", np.min( ndvi.values))\n",
    "print(\"1st Quantile :\", np.quantile( ndvi.values, 0.25, axis = None))\n",
    "print(\"median :\", np.median( ndvi.values))\n",
    "print(\"3rd Quantile :\", np.quantile( ndvi.values, 0.75, axis = None))\n",
    "print(\"maximum :\", np.max( ndvi.values))"
   ]
  },
  {
   "cell_type": "code",
   "execution_count": null,
   "id": "2e5b1ac3-be7e-4ab7-af31-22a2c0fa4d03",
   "metadata": {},
   "outputs": [],
   "source": [
    "#Classifying a raster involves grouping its pixel values into distinct classes based on certain criteria.\n",
    "# This process is commonly used to categorize different land cover types, objects, or phenomena within the image.\n",
    "import xarray as xr\n",
    "# The 'ndvi' data array is the input to be classified.\n",
    "# The second argument specifies the bin edges for classification: [-∞, 0, 0.3, 0.5, 0.9].\n",
    "ndvi_class = xr.apply_ufunc(np.digitize, ndvi, \n",
    "                              [-np.inf, 0, 0.3, 0.5, 0.9]) \n",
    "\n",
    "# inspect result\n",
    "ndvi_class"
   ]
  },
  {
   "cell_type": "code",
   "execution_count": null,
   "id": "b395d4eb-f9ab-4993-88dc-e88cbd76a52f",
   "metadata": {},
   "outputs": [],
   "source": [
    "#Let’s visualize the classified NDVI data using matplotlib and Earthpy:\n",
    "# Import matplotlib object that allows the creation of a personalized cmap from a list\n",
    "from matplotlib.colors import ListedColormap\n",
    "# Define category names for legend.\n",
    "# 'cat_names' is a list that holds the names of categories used in the legend.\n",
    "cat_names = ['Water', 'Bare soil, urban, snow, sand or sediment', 'Sparse vegetation', 'Dense vegetation', 'Others']\n",
    "\n",
    "# Create a subplot and plot the classified NDVI data.\n",
    "# 'f' is a variable that holds the figure object, and 'ax' holds the axis object.\n",
    "f, ax = plt.subplots(figsize=(8,8))\n",
    "# Create an imshow plot of the classified NDVI data.\n",
    "# 'ndvi_class.values[0]' retrieves the NDVI values from xarray as 2d numpy array\n",
    "# 'cmap=ListedColormap(...)' specifies a custom colormap for visualization.\n",
    "im_ax = ax.imshow(ndvi_class.values[0], cmap=ListedColormap(['blue', 'linen', 'lightgreen', 'darkgreen', 'maroon']))\n",
    "# Add a legend to the plot using Earthpy.\n",
    "# 'im_ax' is the plot to which the legend will be added, and 'titles' specifies the legend labels.\n",
    "leg_neg = ep.draw_legend(im_ax=im_ax, titles=cat_names)\n",
    "\n",
    "# Turn off both x and y axes to create a cleaner plot.\n",
    "plt.axis('off')\n",
    "\n",
    "# Display the plot.\n",
    "plt.show()"
   ]
  },
  {
   "cell_type": "code",
   "execution_count": null,
   "id": "b797b774-a5d2-4145-a28d-b1d1a698b831",
   "metadata": {},
   "outputs": [],
   "source": [
    "!pip install geopandas"
   ]
  },
  {
   "cell_type": "code",
   "execution_count": null,
   "id": "fa32dca8-8ccc-448f-bd08-39dde02ccaa2",
   "metadata": {},
   "outputs": [],
   "source": [
    "sa_1 = gpd.read_file(\"sa1_christchurch.gpkg\")"
   ]
  },
  {
   "cell_type": "code",
   "execution_count": null,
   "id": "c0af3b0c-58b5-475c-8b8e-04506d7219d2",
   "metadata": {},
   "outputs": [],
   "source": [
    "sa_1.shape"
   ]
  },
  {
   "cell_type": "code",
   "execution_count": null,
   "id": "d5b4ccc7-e789-4ab7-9f7c-ee3c89aea9d1",
   "metadata": {},
   "outputs": [],
   "source": [
    "sa_1.explore(max_bounds=True)"
   ]
  },
  {
   "cell_type": "code",
   "execution_count": null,
   "id": "49cec893-aedb-4290-af1c-78132da174f5",
   "metadata": {},
   "outputs": [],
   "source": [
    "sa_1.plot()\n",
    "plt.show()"
   ]
  },
  {
   "cell_type": "code",
   "execution_count": null,
   "id": "da2b465d-30e1-4300-99ac-4058da7552a2",
   "metadata": {},
   "outputs": [],
   "source": [
    "#Reproject Raster Images\n",
    "#In order to calculate the average ndvi for each SA1, we need to first make sure that our ndvi raster and our sa1 polygons are on the same coordinate reference system (CRS):\n",
    "# Check crs info for raster\n",
    "ndvi.rio.crs"
   ]
  },
  {
   "cell_type": "code",
   "execution_count": null,
   "id": "c64c3d46-7b10-4284-acab-7f3686914ac2",
   "metadata": {},
   "outputs": [],
   "source": [
    "#  Use the CRS.from_epsg() methods directly from pyproj to obtain details\n",
    "CRS.from_epsg(32759)"
   ]
  },
  {
   "cell_type": "code",
   "execution_count": null,
   "id": "ebe86ec1-dc64-450f-996d-2b672516cc9a",
   "metadata": {},
   "outputs": [],
   "source": [
    "# Compare the raster crs to the geodataframe crs\n",
    "print(ndvi.rio.crs == sa_1.crs)"
   ]
  },
  {
   "cell_type": "code",
   "execution_count": null,
   "id": "0146d70f-0357-44b1-b68f-4c8d90387d7a",
   "metadata": {},
   "outputs": [],
   "source": [
    "# The new CRS for the reprojected dataset is specified by 'sa1.crs', which is the CRS of the 'sa1' raster dataset.\n",
    "ndvi_nztm = ndvi.rio.reproject(sa_1.crs)\n",
    "# Inspect crs result\n",
    "ndvi_nztm.rio.crs"
   ]
  },
  {
   "cell_type": "code",
   "execution_count": null,
   "id": "700910c4-f104-475e-9c2b-1bb357733e5f",
   "metadata": {},
   "outputs": [],
   "source": [
    "# Exporting raster data with rioxarray\n",
    "# Deinfe path and filename with extensio to save\n",
    "ndvi_fp=\"Lab3_data/ndvi_nztm.tif\"\n",
    "# Save reprojected raster to disk\n",
    "ndvi_nztm.rio.to_raster(ndvi_fp)"
   ]
  },
  {
   "cell_type": "code",
   "execution_count": null,
   "id": "21d67852-9f75-4bfe-83f3-7b1d5cba08dd",
   "metadata": {},
   "outputs": [],
   "source": [
    "#rasterstats is a Python module for summarizing geospatial raster datasets based on vector geometries. \n",
    "#It includes functions for zonal statistics and interpolated point queries. \n",
    "#Let’s run an example using the eleventh polygon in the sa1 GeoDataFrame:\n",
    "# selecting the 11th polygon. Python counts from zero!\n",
    "sa_1.iloc[10]['geometry']"
   ]
  },
  {
   "cell_type": "code",
   "execution_count": null,
   "id": "f5bd0fa3-0a97-45f4-9389-91df051566ea",
   "metadata": {},
   "outputs": [],
   "source": [
    "!pip install rasterstats"
   ]
  },
  {
   "cell_type": "code",
   "execution_count": null,
   "id": "179f085e-d99b-410a-97cd-9b3df400f4eb",
   "metadata": {},
   "outputs": [],
   "source": [
    "# Import the zonal_stats function from the rasterstats library.\n",
    "from rasterstats import zonal_stats\n",
    "\n",
    "# 'iloc[11]['geometry']' extracts the geometry of the first zone in the DataFrame.\n",
    "# 'ndvi_fp' is the file path to the raster containing our ndvi data. Same fiel path we used to save it.\n",
    "# 'nodata' specifies the NoData value in the raster. Pixels with this value will be excluded from calculations.\n",
    "# In this case, the NoData value is \"-999\" as we defined when exportign the original ndvi dataset in section 2.3\n",
    "# 'stats' is a list of statistics to calculate within the zone. Here, we calculate \"min\", \"max\", \"mean\", and \"median\".\"\"\n",
    "# The result of the zonal statistics calculation is stored in the variable 'zs_ndvi'.\n",
    "\n",
    "zs_ndvi = zonal_stats(sa_1.iloc[10]['geometry'], ndvi_fp, nodata=-999, stats=[\"min\", \"max\", \"mean\", \"median\"], all_touched=True)\n",
    "\n",
    "# Print the calculated zonal statistics.\n",
    "print(zs_ndvi)"
   ]
  },
  {
   "cell_type": "code",
   "execution_count": null,
   "id": "a17dec75-48f0-4aab-8087-af4361573210",
   "metadata": {},
   "outputs": [],
   "source": [
    "#We can access each value in the results zs_ndvi by using the .get() methods for dictionaries:\n",
    "# we need to select the first and only dictionary in the list zs_ndvi\n",
    "# that is why we do zs_ndvi[0]. Once the first dictionary of the list is selected\n",
    "# we can use .get()\n",
    "print(zs_ndvi[0].get('mean'))\n",
    "print(zs_ndvi[0].get('max'))"
   ]
  },
  {
   "cell_type": "code",
   "execution_count": null,
   "id": "d864fd46-ff8e-4a84-b405-2a6fc81991e3",
   "metadata": {},
   "outputs": [],
   "source": [
    "!pip install tqdm"
   ]
  },
  {
   "cell_type": "code",
   "execution_count": null,
   "id": "ea333b37-5a79-4cb2-8a2e-c9d7f8746703",
   "metadata": {},
   "outputs": [],
   "source": [
    "# Import the tqdm library to monitor progress during the loop iteration.\n",
    "from tqdm import tqdm\n",
    "\n",
    "# Create a new column 'ndvi_mean' in the geospatial DataFrame 'sa1' to store calculated statistics.\n",
    "sa_1[\"ndvi_mean\"] = None\n",
    "\n",
    "# Iterate through each geometry in the geospatial DataFrame 'sa1' and calculate ndvi mean.\n",
    "# tqdm () is measuring the loop progress\n",
    "for index, row in tqdm(sa_1.iterrows()):\n",
    "    # Calculate zonal statistics (mean ndvi) for the current geometry.\n",
    "    stats = zonal_stats(row[\"geometry\"], ndvi_fp, nodata=-999, stats=[\"mean\"])\n",
    "    \n",
    "    # Store the calculated mean NDVI value in the 'ndvi_mean' column of the current row being iterated.\n",
    "    sa_1.loc[index, \"ndvi_mean\"] = stats[0].get('mean')"
   ]
  },
  {
   "cell_type": "code",
   "execution_count": null,
   "id": "cc035502-8e2f-4d40-b537-857d40ee98ad",
   "metadata": {},
   "outputs": [],
   "source": [
    "# Inspect the result\n",
    "sa_1.head(5)"
   ]
  },
  {
   "cell_type": "code",
   "execution_count": null,
   "id": "82c10eb3-77f1-4573-bd8f-6d4f06fcf454",
   "metadata": {},
   "outputs": [],
   "source": [
    "#Now we can plot the mean ndvi value for each sa1:\n",
    "# Create a new figure and axis for plotting\n",
    "# Set the figure size to 10x10 inches\n",
    "fig, ax = plt.subplots(figsize=(10, 10))\n",
    "\n",
    "# Plot the GeoDataFrame 'sa1' with the 'ndvi_mean' column as the color attribute\n",
    "# Show a legend for the color mapping (legend=True)\n",
    "# Use the 'NaturalBreaks' classification scheme for the color mapping - Do nto worry \n",
    "# about ths sfor now, we will talk more about classification schemes in Lab5\n",
    "sa_1.plot(ax=ax, column=\"ndvi_mean\", legend=True, scheme=\"NaturalBreaks\")\n",
    "\n",
    "# Display the plot\n",
    "plt.show()"
   ]
  },
  {
   "cell_type": "code",
   "execution_count": null,
   "id": "8e2c22ee-419f-4f9a-837c-eac697680460",
   "metadata": {},
   "outputs": [],
   "source": [
    "#Raster visualisation on interactive map\n",
    " #Import the necessary function from the 'earthpy.spatial' module\n",
    "import earthpy.spatial as es\n",
    "\n",
    "# Reproject the NDVI raster to the WGS84 geographic coordinate system (EPSG:4326)\n",
    "# This ensures alignment with the background map used in Folium\n",
    "ndvi_wgs84 = ndvi.rio.reproject('EPSG:4326')\n",
    "\n",
    "# Use np.where to replace all null (NaN) values in the raster with the minimum value in the array\n",
    "# 'ndvi_wgs84.isnull()' returns a Boolean mask of NaN values in the raster\n",
    "# 'ndvi_wgs84.min()' retrieves the minimum value in the entire raster\n",
    "ndvi_plot = ndvi_wgs84.where(~ndvi_wgs84.isnull(), ndvi_wgs84.min())\n",
    "\n",
    "# Scale the values of the raster array from 0 to 255\n",
    "# 'ndvi_plot.values[0]' retrieves the array of values from the raster\n",
    "# 'es.bytescale()' scales and clips the values to the specified range (0 to 255)\n",
    "scaled_ndvi = es.bytescale(ndvi_plot.values[0])"
   ]
  },
  {
   "cell_type": "code",
   "execution_count": null,
   "id": "3577329c-fff0-4a45-828e-fb661a15c502",
   "metadata": {},
   "outputs": [],
   "source": [
    "# Get the bounding box coordinates (xmax, ymin, xmin, ymax) of the reprojected ndvi raster\n",
    "# 'ndvi_wgs84' is the NDVI raster in the WGS84 geographic coordinate system\n",
    "xmax, ymin, xmin, ymax = ndvi_wgs84.rio.bounds()\n",
    "\n",
    "# Calculate the mean latitude of the reprojected NDVI raster\n",
    "# 'ndvi_wgs84.y.values' returns an array of latitudes in the raster\n",
    "clat = ndvi_wgs84.y.values.mean()\n",
    "\n",
    "# Calculate the mean longitude of the reprojected NDVI raster\n",
    "# 'ndvi_wgs84.x.values' returns an array of longitudes in the raster\n",
    "clon = ndvi_wgs84.x.values.mean()"
   ]
  },
  {
   "cell_type": "code",
   "execution_count": null,
   "id": "ab7be0ed-50cb-4eba-8327-6e5d90bd7fc9",
   "metadata": {},
   "outputs": [],
   "source": [
    "def colorize(array, cmap='RdYlGn'):\n",
    "    \"\"\"\n",
    "    Colorize a given array using a specified colormap.\n",
    "\n",
    "    Parameters:\n",
    "    - array: Numeric array to be colorized.\n",
    "    - cmap: Name of the colormap to be used (default: 'RdYlGn').\n",
    "\n",
    "    Returns:\n",
    "    - Colorized array using the specified colormap.\n",
    "    \"\"\"\n",
    "    # Normalize the array data to a range of [0, 1]. Use the percentiles 2/98 to improve contrast\n",
    "    normed_data = (array - np.percentile(array,2)) / (np.percentile(array,98) - np.percentile(array,2))\n",
    "    normed_data= np.where(normed_data >1, 1, normed_data)\n",
    "    # Get the colormap based on the provided cmap name\n",
    "    cm = plt.colormaps.get_cmap(cmap)\n",
    "    \n",
    "    # Apply the colormap to the normalized data and return the colorized array\n",
    "    return cm(normed_data)"
   ]
  },
  {
   "cell_type": "code",
   "execution_count": null,
   "id": "e9171c98-5d7b-4b41-bead-ca8da64fa67b",
   "metadata": {},
   "outputs": [],
   "source": [
    "ndvi_wgs84.drop('band')[0].rio.nodata"
   ]
  },
  {
   "cell_type": "code",
   "execution_count": null,
   "id": "89e552fd-4f6f-4fa4-8c8c-2ed19027f47a",
   "metadata": {},
   "outputs": [],
   "source": [
    "# Import the necessary library for masked arrays\n",
    "import numpy.ma as ma\n",
    "\n",
    "# Extract the NDVI values from the reprojected raster\n",
    "# We drop the 'band' dimension to make it a 2D array, otherwise, it will be 3D and cause an error\n",
    "arr_ndvi = ndvi_wgs84.drop('band')[0].values\n",
    "\n",
    "# Create a masked array from the ndvi values, masking invalid (NaN) values to avoid error\n",
    "arr_ndvi_mask = ma.masked_invalid(arr_ndvi)\n",
    "\n",
    "# Colorize the masked NDVI values using the 'colorize' function and the 'RdYlGn' colormap\n",
    "colored_data = colorize(arr_ndvi_mask, cmap='RdYlGn')"
   ]
  },
  {
   "cell_type": "code",
   "execution_count": null,
   "id": "823edc0f-f1ed-4091-a04f-f172c97c664a",
   "metadata": {},
   "outputs": [],
   "source": [
    "# Import necessary libraries\n",
    "import folium\n",
    "from matplotlib import cm\n",
    "\n",
    "# Create a map using Stamen Terrain, centered on the study area with a specified zoom level\n",
    "# clat and clon were extracted from our raster\n",
    "m = folium.Map(location=[clat, clon],\n",
    "               tiles=\"Cartodb Positron\",\n",
    "               zoom_start=8)\n",
    "\n",
    "# Define the map bounds for overlay based on raster bounds\n",
    "map_bounds = [[ymin, xmin], \n",
    "              [ymax, xmax]]\n",
    "\n",
    "# Overlay the colorized raster data on the map using ImageOverlay\n",
    "# Set opacity, bounding box, name, and apply Mercator projection\n",
    "m.add_child(folium.raster_layers.ImageOverlay(colored_data, \n",
    "                                              opacity=0.7,\n",
    "                                              bounds=map_bounds,\n",
    "                                              name=\"NDVI\",\n",
    "                                              mercator_project=True))\n",
    "\n",
    "# Add a layer control to the map for toggling layers\n",
    "folium.LayerControl().add_to(m)\n",
    "\n",
    "# Display the map\n",
    "m"
   ]
  },
  {
   "cell_type": "code",
   "execution_count": null,
   "id": "4f74bd75-75a2-4035-90e2-3795fcfe4c2f",
   "metadata": {},
   "outputs": [],
   "source": [
    "m.save('Lab3_data/map_with_ndvi.html')"
   ]
  },
  {
   "cell_type": "code",
   "execution_count": null,
   "id": "faa91a27-f2eb-40c7-99ab-c37ff7a48ce8",
   "metadata": {},
   "outputs": [],
   "source": [
    "#Raster Clipping\n",
    "#we will use a geodataframe with a polygon representing Banks Peninsula to clip our reprojected raster ndvi_nztm:\n",
    "# inspect the data\n",
    "ndvi_nztm"
   ]
  },
  {
   "cell_type": "code",
   "execution_count": null,
   "id": "132a5e42-95aa-432e-ad28-bb2da5c7b82b",
   "metadata": {},
   "outputs": [],
   "source": [
    "banks = gpd.read_file(\"banks_peninsula.gpkg\")"
   ]
  },
  {
   "cell_type": "code",
   "execution_count": null,
   "id": "e54bb69e-cad5-4829-ad60-4a469f894181",
   "metadata": {},
   "outputs": [],
   "source": [
    "banks.shape"
   ]
  },
  {
   "cell_type": "code",
   "execution_count": null,
   "id": "d335d8b6-7725-40fa-9362-d1ffdb64039b",
   "metadata": {},
   "outputs": [],
   "source": [
    "banks.plot()\n",
    "plt.show()"
   ]
  },
  {
   "cell_type": "code",
   "execution_count": null,
   "id": "19567fb2-e37a-4f87-8335-cfbb0872f608",
   "metadata": {},
   "outputs": [],
   "source": [
    "ndvi_nztm.rio.crs==banks.crs"
   ]
  },
  {
   "cell_type": "code",
   "execution_count": null,
   "id": "0551d626-e7c6-418a-899e-7d56893b1974",
   "metadata": {},
   "outputs": [],
   "source": [
    "#Use a quick plot to visualize the raster before clipping:\n",
    "ep.plot_bands(ndvi_nztm)"
   ]
  },
  {
   "cell_type": "code",
   "execution_count": null,
   "id": "f80577c2-6b11-4c22-9132-05074f8e5299",
   "metadata": {},
   "outputs": [],
   "source": [
    "# Import the necessary function from the 'shapely.geometry' module\n",
    "from shapely.geometry import mapping\n",
    "\n",
    "# Apply the 'mapping' function to convert geometries to GeoJSON-like dictionaries\n",
    "# 'banks.geometry' is a GeoSeries containing geometries\n",
    "geometries = banks.geometry.apply(mapping)\n",
    "# inspect the result\n",
    "geometries"
   ]
  },
  {
   "cell_type": "code",
   "execution_count": null,
   "id": "91ed3a5e-4116-4931-8361-3d32fb1498c2",
   "metadata": {},
   "outputs": [],
   "source": [
    "#use the function rio.clip() for clipping our raster ndvi_nztm:\n",
    "clipped = ndvi_nztm.rio.clip(geometries)"
   ]
  },
  {
   "cell_type": "code",
   "execution_count": null,
   "id": "c7970c13-c5c9-4a86-b4c7-3ea35fc2e142",
   "metadata": {},
   "outputs": [],
   "source": [
    "ep.plot_bands(clipped)"
   ]
  },
  {
   "cell_type": "code",
   "execution_count": null,
   "id": "1238d64f-60a7-4b7b-8dff-050c8701e3d3",
   "metadata": {},
   "outputs": [],
   "source": [
    "clipped.rio.to_raster(\"Lab3_data/ndvi_clipped.tif\")"
   ]
  },
  {
   "cell_type": "code",
   "execution_count": null,
   "id": "ed8ac283-bea9-4e95-a659-8b04d06f658c",
   "metadata": {},
   "outputs": [],
   "source": [
    "#Raster mosaic\n",
    "# Import the 'glob' module to find all .tif files in a folder\n",
    "import glob\n",
    "# Use 'glob' to get a list of all .tif files in the specified folder\n",
    "tif_files = glob.glob(\"*.tif\")\n",
    "print(\"All tif files in the directory: \", tif_files)\n",
    "\n",
    "# Define keywords to filter .tif files\n",
    "# here we use the number that are at the end of each tif file of interest\n",
    "keywords = [\"_2932\", '_2931']\n",
    "\n",
    "# Create a filtered list of .tif files that match the specified keywords\n",
    "filtered_tif_files = [file for keyword in keywords for file in tif_files if keyword in file]\n",
    "\n",
    "# Print the filtered list of .tif files with path\n",
    "print(\"Selected tif files for mosaic: \", filtered_tif_files)"
   ]
  },
  {
   "cell_type": "code",
   "execution_count": null,
   "id": "092eec27-72f9-49e4-adda-91fe2c323b15",
   "metadata": {},
   "outputs": [],
   "source": [
    "#we can create the mosaic by using the paths to our files ( filtered_tif_files) and the rioxarray.merge module:\n",
    "# Import the 'merge_arrays' function from 'rioxarray.merge'\n",
    "from rioxarray.merge import merge_arrays\n",
    "\n",
    "# Open raster data using rioxarray for each file in the filtered list\n",
    "# 'mask_and_scale=True' ensures automatic masking of nodata values and scaling\n",
    "# here we are using list comprehension. See Lab2 section 2.1.2.1 if you do not remeber how this works\n",
    "rasters = [rxr.open_rasterio(path, mask_and_scale=True) for path in filtered_tif_files]\n",
    "\n",
    "# Merge the opened raster arrays using 'merge_arrays'\n",
    "# 'res' sets the output resolution, 'crs' sets the output coordinate reference system,\n",
    "# and 'nodata' specifies the nodata value\n",
    "merged_raster = merge_arrays(dataarrays=rasters, res=(1, 1), crs=rasters[0].rio.crs, nodata=np.nan)"
   ]
  },
  {
   "cell_type": "code",
   "execution_count": null,
   "id": "8bc2a63c-6e69-4a60-acef-c462bc362913",
   "metadata": {},
   "outputs": [],
   "source": [
    "#Visualize the original files and the resulting mosaic:\n",
    "# Create a figure with three subplots arranged horizontally\n",
    "fig, (ax1, ax2, ax3) = plt.subplots(1, 3, figsize=(15, 4))\n",
    "\n",
    "# Plot the merged raster on the first subplot (ax1)\n",
    "merged_raster.plot(ax=ax1)\n",
    "# Plot the first raster from the list on the second subplot (ax3)\n",
    "rasters[0].plot(ax=ax3)\n",
    "# Plot the second raster from the list on the third subplot (ax2)\n",
    "rasters[1].plot(ax=ax2)\n",
    "\n",
    "# Display the plot\n",
    "plt.show()\n",
    "# Adjust the layout of the subplots for better spacing\n",
    "plt.tight_layout()\n"
   ]
  },
  {
   "cell_type": "code",
   "execution_count": null,
   "id": "3a461221-f819-4640-af69-907016ecff73",
   "metadata": {},
   "outputs": [],
   "source": [
    "# Check if the conflicting key exists in the attributes and delete it.\n",
    "# Otherwise, you'll get ValueError: failed to prevent overwriting existing key _FillValue in attrs.\n",
    "if '_FillValue' in merged_raster.attrs:\n",
    "    del merged_raster.attrs['_FillValue']\n",
    "\n",
    "from pathlib import Path\n",
    "\n",
    "# Create the Data_Export folder if it doesn't exist\n",
    "Path(\"Lab3_data/Data_Export\").mkdir(parents=True, exist_ok=True)\n",
    "\n",
    "# Now save\n",
    "merged_raster.rio.to_raster(\"Lab3_data/Data_Export/merged_dem.tif\")\n",
    "\n",
    "# Export DEM mosaic to disk\n",
    "#merged_raster.rio.to_raster(\"Lab3_data/Data_Export/merged_dem.tif\")"
   ]
  },
  {
   "cell_type": "code",
   "execution_count": null,
   "id": "9491f042-366f-4c45-af4e-84ff21e8858c",
   "metadata": {},
   "outputs": [],
   "source": [
    "print(os.getcwd())"
   ]
  },
  {
   "cell_type": "code",
   "execution_count": null,
   "id": "eb9e8427-6061-4d14-918a-e5ee0351d178",
   "metadata": {},
   "outputs": [],
   "source": [
    "#Raster resampling is used to change the pixel size of a raster dataset. \n",
    "#It involves interpolating pixel values to adjust them to a new grid size, either finer (upsampling) or coarser (downsampling).\n",
    "# Comparing resolution\n",
    "print( \"The resolution for NDVI: \", ndvi_nztm.rio.resolution())\n",
    "print( \"The resolution for DEM: \",  merged_raster.rio.resolution())\n",
    "\n",
    "# Comparing CRS\n",
    "print( \"The CRS is the same: \", ndvi_nztm.rio.crs==merged_raster.rio.crs)\n",
    "\n",
    "# Extent of data\n",
    "print( \"The geographic extent for NDVI: \", ndvi_nztm.rio.bounds())\n",
    "print( \"The geographic extent for DEM: \", merged_raster.rio.bounds())"
   ]
  },
  {
   "cell_type": "code",
   "execution_count": null,
   "id": "c249ecfe-51e5-4594-a829-d319f1b5002e",
   "metadata": {},
   "outputs": [],
   "source": [
    "# Import the necessary enumeration 'Resampling' from 'rasterio.enums'\n",
    "from rasterio.enums import Resampling\n",
    "# Use 'rio.reproject_match()' to upsample 'ndvi_nztm' to match 'merged_raster'\n",
    "# Set the resampling method to bilinear interpolation\n",
    "ndvi_upsampled = ndvi_nztm.rio.reproject_match(merged_raster, resampling=Resampling.bilinear)"
   ]
  },
  {
   "cell_type": "code",
   "execution_count": null,
   "id": "7008cba3-5136-4762-925b-9235010afb22",
   "metadata": {},
   "outputs": [],
   "source": [
    "#Quickly visualize the result:\n",
    "ndvi_upsampled.plot()\n",
    "plt.show()"
   ]
  },
  {
   "cell_type": "code",
   "execution_count": null,
   "id": "baa6c390-91b8-40d2-b42a-315c14e0a140",
   "metadata": {},
   "outputs": [],
   "source": [
    "#Let’s perform a very simple Multi Criteria Evaluation (MCE) fro a hypothethical scenario.\n",
    "#Multicriteria evaluation (MCE) is a decision-making methodology used in various fields, including geography, environmental science, urban planning, and engineering.\n",
    "#Let’s start by creating the numpy array that summarises our vegetation ndviconditions:\n",
    "# Create a binary classification based on NDVI values\n",
    "# Values greater than 0.6 are assigned a value of 1, otherwise 0\n",
    "ndvi_crit1 = np.where((ndvi_upsampled.values > 0.6), 1, 0)\n",
    "\n",
    "# Create another classification: values between 0.4 and 0.6 are assigned a value of 0.5, otherwise 0\n",
    "ndvi_crit2 = np.where(((ndvi_upsampled.values < 0.6) & (ndvi_upsampled.values > 0.4)), 0.5, 0)\n",
    "\n",
    "# Combine the two classifications to create a composite classification\n",
    "ndvi_crit_all = ndvi_crit1 + ndvi_crit2\n",
    "\n",
    "# Print the unique values in the composite classification\n",
    "print(np.unique(ndvi_crit_all))"
   ]
  },
  {
   "cell_type": "code",
   "execution_count": null,
   "id": "2b823e50-2369-4779-a84c-9a409082038a",
   "metadata": {},
   "outputs": [],
   "source": [
    "#Now we work on creating the numpy array that summarises our DEM merged_rasterconditions:\n",
    "# Create a binary classification based on DEM values\n",
    "# Values between 25 and 50 are assigned a value of 0.5, otherwise 0\n",
    "dem_crit1 = np.where((merged_raster.values > 25) & (merged_raster.values < 50), 0.5, 0)\n",
    "\n",
    "# Create another classification: values greater than 50 are assigned a value of 1, otherwise 0\n",
    "dem_crit2 = np.where((merged_raster.values > 50), 1, 0)\n",
    "\n",
    "# Combine the two classifications to create a composite classification\n",
    "dem_crit_all = dem_crit1 + dem_crit2\n",
    "\n",
    "# Print the unique values in the composite classification\n",
    "print(np.unique(dem_crit_all))"
   ]
  },
  {
   "cell_type": "code",
   "execution_count": null,
   "id": "c71471b4-f267-4b3d-bfe8-b11d1140a44b",
   "metadata": {},
   "outputs": [],
   "source": [
    "#Now we combine both criterias while considerign the weights too:\n",
    "# Combine NDVI and DEM classifications using weighted sum\n",
    "suit = 0.55 * ndvi_crit_all + 0.45 * dem_crit_all\n",
    "\n",
    "# Print the unique values in the 'suit' composite classification\n",
    "print(np.unique(suit))"
   ]
  },
  {
   "cell_type": "code",
   "execution_count": null,
   "id": "f9d14c0e-d2d6-4d04-aa9d-be16ab05da8f",
   "metadata": {},
   "outputs": [],
   "source": [
    "# Classify the 'suit' data array based on specified bin edges\n",
    "# Values below 0.45 are assigned class 0, values between 0.45 and 0.6 are assigned class 1,\n",
    "# values between 0.6 and 0.75 are assigned class 2, and values above 0.75 are assigned class 3.\n",
    "suit_class = np.digitize(suit, \n",
    "                        [-np.inf, 0.45, 0.6, 0.75]) \n",
    "\n",
    "# Print the unique classes in the 'suit_class' classification\n",
    "np.unique(suit_class)"
   ]
  },
  {
   "cell_type": "code",
   "execution_count": null,
   "id": "af80bb16-4099-4df7-b84e-1d380e1dd9eb",
   "metadata": {},
   "outputs": [],
   "source": [
    "# Import matplotlib object that allows the creation of a personalized cmap from a list\n",
    "from matplotlib.colors import ListedColormap\n",
    "# Define category names for legend.\n",
    "# 'cat_names' is a list that holds the names of categories used in the legend.\n",
    "cat_names = ['Not suitable', 'Low', 'Medium', 'High']\n",
    "\n",
    "# Create a subplot and plot the classified NDVI data.\n",
    "# 'f' is a variable that holds the figure object, and 'ax' holds the axis object.\n",
    "f, ax = plt.subplots(figsize=(8,8))\n",
    "\n",
    "# Create an imshow plot of the classified suitabilit `suit`data.\n",
    "# 'suit_class[0]' retrieves the suitability values  as 2d numpy array\n",
    "# 'cmap=ListedColormap(...)' specifies a custom colormap for visualization.\n",
    "im_ax = ax.imshow(suit_class[0], cmap=ListedColormap(['red', 'yellow', 'lightgreen', 'darkgreen']))\n",
    "# Set a title\n",
    "plt.title(\"Suitability for terrestrian wildlife release after recovery\") \n",
    "\n",
    "# Add a legend to the plot using Earthpy.\n",
    "# 'im_ax' is the plot to which the legend will be added, and 'titles' specifies the legend labels.\n",
    "leg_neg = ep.draw_legend(im_ax=im_ax, titles=cat_names)\n",
    "\n",
    "# Turn off both x and y axes to create a cleaner plot.\n",
    "plt.axis('off')\n",
    "# Display the plot.\n",
    "plt.show()"
   ]
  },
  {
   "cell_type": "code",
   "execution_count": null,
   "id": "09193432-8a2a-400b-aabe-4ea3d561ea7f",
   "metadata": {},
   "outputs": [],
   "source": []
  }
 ],
 "metadata": {
  "kernelspec": {
   "display_name": "Python 3 (ipykernel)",
   "language": "python",
   "name": "python3"
  },
  "language_info": {
   "codemirror_mode": {
    "name": "ipython",
    "version": 3
   },
   "file_extension": ".py",
   "mimetype": "text/x-python",
   "name": "python",
   "nbconvert_exporter": "python",
   "pygments_lexer": "ipython3",
   "version": "3.12.3"
  }
 },
 "nbformat": 4,
 "nbformat_minor": 5
}
